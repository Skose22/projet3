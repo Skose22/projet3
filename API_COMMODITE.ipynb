{
  "nbformat": 4,
  "nbformat_minor": 0,
  "metadata": {
    "colab": {
      "provenance": [],
      "authorship_tag": "ABX9TyMjwWt4V16tOy4u5eQLBXcK",
      "include_colab_link": true
    },
    "kernelspec": {
      "name": "python3",
      "display_name": "Python 3"
    },
    "language_info": {
      "name": "python"
    }
  },
  "cells": [
    {
      "cell_type": "markdown",
      "metadata": {
        "id": "view-in-github",
        "colab_type": "text"
      },
      "source": [
        "<a href=\"https://colab.research.google.com/github/Skose22/projet3/blob/samet_work/API_COMMODITE.ipynb\" target=\"_parent\"><img src=\"https://colab.research.google.com/assets/colab-badge.svg\" alt=\"Open In Colab\"/></a>"
      ]
    },
    {
      "cell_type": "markdown",
      "source": [
        "url = https://www.bienici.com/neighborhoodStatsById.json?id=100476"
      ],
      "metadata": {
        "id": "5dd-nEqIo9QS"
      }
    },
    {
      "cell_type": "code",
      "execution_count": 1,
      "metadata": {
        "id": "-ptS1KIRnk6Y"
      },
      "outputs": [],
      "source": [
        "import pandas as pd\n",
        "import requests\n",
        "from tqdm import tqdm\n",
        "tqdm.pandas()"
      ]
    },
    {
      "cell_type": "code",
      "source": [
        "id_ = 100476\n",
        "url = f\"https://www.bienici.com/neighborhoodStatsById.json?id={id_}\"\n",
        "print(url)"
      ],
      "metadata": {
        "colab": {
          "base_uri": "https://localhost:8080/"
        },
        "id": "ahK2wCD8pV3C",
        "outputId": "5f2a72d7-e5ab-461b-83b2-3a1010a7f896"
      },
      "execution_count": 30,
      "outputs": [
        {
          "output_type": "stream",
          "name": "stdout",
          "text": [
            "https://www.bienici.com/neighborhoodStatsById.json?id=100476\n"
          ]
        }
      ]
    },
    {
      "cell_type": "code",
      "source": [
        "r = requests.get(url)\n",
        "print(r)"
      ],
      "metadata": {
        "colab": {
          "base_uri": "https://localhost:8080/"
        },
        "id": "WCmzKhK0pc77",
        "outputId": "517dda0f-b758-4f90-8646-1bb9fdd5f1ac"
      },
      "execution_count": 31,
      "outputs": [
        {
          "output_type": "stream",
          "name": "stdout",
          "text": [
            "<Response [200]>\n"
          ]
        }
      ]
    },
    {
      "cell_type": "code",
      "source": [
        "r_js = r.json()"
      ],
      "metadata": {
        "id": "diXbVtIeph0v"
      },
      "execution_count": 32,
      "outputs": []
    },
    {
      "cell_type": "code",
      "source": [
        "print(type(r_js['poiCounts']))"
      ],
      "metadata": {
        "colab": {
          "base_uri": "https://localhost:8080/"
        },
        "id": "yBZTcB-Swatt",
        "outputId": "504cf702-e24d-4f8b-e43c-05e66cba6dfb"
      },
      "execution_count": 33,
      "outputs": [
        {
          "output_type": "stream",
          "name": "stdout",
          "text": [
            "<class 'dict'>\n"
          ]
        }
      ]
    },
    {
      "cell_type": "code",
      "source": [
        "df = pd.json_normalize(r_js[\"poiCounts\"],meta=[\"id_polygone\"])"
      ],
      "metadata": {
        "id": "GcnrmUFupkmp"
      },
      "execution_count": 34,
      "outputs": []
    },
    {
      "cell_type": "code",
      "source": [
        "df['id_polygone'] = id_"
      ],
      "metadata": {
        "id": "99PfcMi3yNPI"
      },
      "execution_count": 36,
      "outputs": []
    },
    {
      "cell_type": "markdown",
      "source": [],
      "metadata": {
        "id": "8ckY6jQ8yM-u"
      }
    },
    {
      "cell_type": "code",
      "source": [
        "print(df.to_markdown())"
      ],
      "metadata": {
        "colab": {
          "base_uri": "https://localhost:8080/"
        },
        "id": "Q9lCTioRwtTR",
        "outputId": "b2f1fa73-83cb-47a0-81fb-f81a8d337f19"
      },
      "execution_count": 37,
      "outputs": [
        {
          "output_type": "stream",
          "name": "stdout",
          "text": [
            "|    |   Activités récréatives.Aquarium |   Commerce et Service.Banque |   Commerce et Service.Bar |   Commerce et Service.Boucherie |   Commerce et Service.Boulangerie |   Commerce et Service.Bureau de poste |   Commerce et Service.Marché de quartier |   Commerce et Service.Presse et Tabac |   Commerce et Service.Restaurant |   Commerce et Service.Supérette |   Commerce et Service.Supermarché et Hypermarché |   Culture.Monument historique |   Culture.Théâtre |   Education.Collège |   Education.Ecole maternelle |   Education.Ecole primaire |   Education.Enseignement supérieur |   Education.Lycée |   Festival.Festival |   Lieux d'intérêts.Agglomération |   Lieux d'intérêts.Ville |   Lieux touristiques.Incontournable |   Lieux touristiques.Musée |   Loisirs.Parc, Jardin et Square |   Loisirs.Terrain et Salle de sport |   Petite enfance.Crèche |   Risques.Antennes relais |   Risques.Site potentiellement polué |   Santé.Médecin généraliste |   Santé.Médecin spécialiste |   Santé.Pharmacie |   Service Public.Service des impôts des entreprises |   Service Public.Service des impôts des particuliers |   Tourisme.Hôtel |   Tourisme.Résidence de tourisme, Village et Parc |   Transport.Arrêt bus |   Transport.Autolib' |   Transport.Location de vélo |   Transport.Métro |   Transport.Parking |   Transport.Parking à vélo |   Transport.Rer |   Transport.Station de taxi |   Transport.Station service |   Transport.Vélib' |   id_polygone |\n",
            "|---:|---------------------------------:|-----------------------------:|--------------------------:|--------------------------------:|----------------------------------:|--------------------------------------:|-----------------------------------------:|--------------------------------------:|---------------------------------:|--------------------------------:|-------------------------------------------------:|------------------------------:|------------------:|--------------------:|-----------------------------:|---------------------------:|-----------------------------------:|------------------:|--------------------:|---------------------------------:|-------------------------:|------------------------------------:|---------------------------:|---------------------------------:|------------------------------------:|------------------------:|--------------------------:|-------------------------------------:|----------------------------:|----------------------------:|------------------:|----------------------------------------------------:|-----------------------------------------------------:|-----------------:|--------------------------------------------------:|----------------------:|---------------------:|-----------------------------:|------------------:|--------------------:|---------------------------:|----------------:|----------------------------:|----------------------------:|-------------------:|--------------:|\n",
            "|  0 |                                1 |                           18 |                        16 |                               6 |                                12 |                                     4 |                                        1 |                                     8 |                               57 |                               2 |                                                6 |                            15 |                 2 |                   2 |                            3 |                          8 |                                  3 |                 2 |                   4 |                                1 |                        1 |                                   2 |                          4 |                               36 |                                   6 |                       4 |                        27 |                                   77 |                          75 |                         210 |                20 |                                                   2 |                                                    1 |               27 |                                                 1 |                    52 |                   11 |                            6 |                 6 |                   3 |                          2 |               1 |                          12 |                           3 |                 10 |        100476 |\n"
          ]
        }
      ]
    },
    {
      "cell_type": "code",
      "source": [
        "print(df.columns)"
      ],
      "metadata": {
        "colab": {
          "base_uri": "https://localhost:8080/"
        },
        "id": "AzJCMMsRx4y2",
        "outputId": "f8c08160-557f-4bbc-84f8-408693aef3c1"
      },
      "execution_count": 27,
      "outputs": [
        {
          "output_type": "stream",
          "name": "stdout",
          "text": [
            "Index(['Activités récréatives.Aquarium', 'Commerce et Service.Banque',\n",
            "       'Commerce et Service.Bar', 'Commerce et Service.Boucherie',\n",
            "       'Commerce et Service.Boulangerie',\n",
            "       'Commerce et Service.Bureau de poste',\n",
            "       'Commerce et Service.Marché de quartier',\n",
            "       'Commerce et Service.Presse et Tabac', 'Commerce et Service.Restaurant',\n",
            "       'Commerce et Service.Supérette',\n",
            "       'Commerce et Service.Supermarché et Hypermarché',\n",
            "       'Culture.Monument historique', 'Culture.Théâtre', 'Education.Collège',\n",
            "       'Education.Ecole maternelle', 'Education.Ecole primaire',\n",
            "       'Education.Enseignement supérieur', 'Education.Lycée',\n",
            "       'Festival.Festival', 'Lieux d'intérêts.Agglomération',\n",
            "       'Lieux d'intérêts.Ville', 'Lieux touristiques.Incontournable',\n",
            "       'Lieux touristiques.Musée', 'Loisirs.Parc, Jardin et Square',\n",
            "       'Loisirs.Terrain et Salle de sport', 'Petite enfance.Crèche',\n",
            "       'Risques.Antennes relais', 'Risques.Site potentiellement polué',\n",
            "       'Santé.Médecin généraliste', 'Santé.Médecin spécialiste',\n",
            "       'Santé.Pharmacie', 'Service Public.Service des impôts des entreprises',\n",
            "       'Service Public.Service des impôts des particuliers', 'Tourisme.Hôtel',\n",
            "       'Tourisme.Résidence de tourisme, Village et Parc',\n",
            "       'Transport.Arrêt bus', 'Transport.Autolib'',\n",
            "       'Transport.Location de vélo', 'Transport.Métro', 'Transport.Parking',\n",
            "       'Transport.Parking à vélo', 'Transport.Rer',\n",
            "       'Transport.Station de taxi', 'Transport.Station service',\n",
            "       'Transport.Vélib''],\n",
            "      dtype='object')\n"
          ]
        }
      ]
    },
    {
      "cell_type": "code",
      "source": [],
      "metadata": {
        "id": "ZaBW4ZJevvyp"
      },
      "execution_count": null,
      "outputs": []
    }
  ]
}