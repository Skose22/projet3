{
  "nbformat": 4,
  "nbformat_minor": 0,
  "metadata": {
    "colab": {
      "provenance": [],
      "authorship_tag": "ABX9TyMX6St6SiQh0d9CHBNxT8gz",
      "include_colab_link": true
    },
    "kernelspec": {
      "name": "python3",
      "display_name": "Python 3"
    },
    "language_info": {
      "name": "python"
    }
  },
  "cells": [
    {
      "cell_type": "markdown",
      "metadata": {
        "id": "view-in-github",
        "colab_type": "text"
      },
      "source": [
        "<a href=\"https://colab.research.google.com/github/Skose22/projet3/blob/samet_work/API_COMMODITE.ipynb\" target=\"_parent\"><img src=\"https://colab.research.google.com/assets/colab-badge.svg\" alt=\"Open In Colab\"/></a>"
      ]
    },
    {
      "cell_type": "markdown",
      "source": [
        "url = https://www.bienici.com/neighborhoodStatsById.json?id=100476"
      ],
      "metadata": {
        "id": "5dd-nEqIo9QS"
      }
    },
    {
      "cell_type": "code",
      "execution_count": 1,
      "metadata": {
        "id": "-ptS1KIRnk6Y"
      },
      "outputs": [],
      "source": [
        "import pandas as pd\n",
        "import requests\n",
        "from tqdm import tqdm\n",
        "tqdm.pandas()"
      ]
    },
    {
      "cell_type": "code",
      "source": [
        "pd.set_option(\"display.max_columns\", 150)"
      ],
      "metadata": {
        "id": "DKDNpf1M0-Vs"
      },
      "execution_count": 38,
      "outputs": []
    },
    {
      "cell_type": "code",
      "source": [
        "id_ = 100476\n",
        "url = f\"https://www.bienici.com/neighborhoodStatsById.json?id={id_}\"\n",
        "print(url)"
      ],
      "metadata": {
        "colab": {
          "base_uri": "https://localhost:8080/"
        },
        "id": "ahK2wCD8pV3C",
        "outputId": "5f2a72d7-e5ab-461b-83b2-3a1010a7f896"
      },
      "execution_count": 30,
      "outputs": [
        {
          "output_type": "stream",
          "name": "stdout",
          "text": [
            "https://www.bienici.com/neighborhoodStatsById.json?id=100476\n"
          ]
        }
      ]
    },
    {
      "cell_type": "code",
      "source": [
        "r = requests.get(url)\n",
        "print(r)"
      ],
      "metadata": {
        "colab": {
          "base_uri": "https://localhost:8080/"
        },
        "id": "WCmzKhK0pc77",
        "outputId": "517dda0f-b758-4f90-8646-1bb9fdd5f1ac"
      },
      "execution_count": 31,
      "outputs": [
        {
          "output_type": "stream",
          "name": "stdout",
          "text": [
            "<Response [200]>\n"
          ]
        }
      ]
    },
    {
      "cell_type": "code",
      "source": [
        "r_js = r.json()"
      ],
      "metadata": {
        "id": "diXbVtIeph0v"
      },
      "execution_count": 32,
      "outputs": []
    },
    {
      "cell_type": "code",
      "source": [
        "print(type(r_js['poiCounts']))"
      ],
      "metadata": {
        "colab": {
          "base_uri": "https://localhost:8080/"
        },
        "id": "yBZTcB-Swatt",
        "outputId": "504cf702-e24d-4f8b-e43c-05e66cba6dfb"
      },
      "execution_count": 33,
      "outputs": [
        {
          "output_type": "stream",
          "name": "stdout",
          "text": [
            "<class 'dict'>\n"
          ]
        }
      ]
    },
    {
      "cell_type": "code",
      "source": [
        "df = pd.json_normalize(r_js[\"poiCounts\"],meta=[\"id_polygone\"])"
      ],
      "metadata": {
        "id": "GcnrmUFupkmp"
      },
      "execution_count": 34,
      "outputs": []
    },
    {
      "cell_type": "code",
      "source": [
        "df['id_polygone'] = id_"
      ],
      "metadata": {
        "id": "99PfcMi3yNPI"
      },
      "execution_count": 36,
      "outputs": []
    },
    {
      "cell_type": "markdown",
      "source": [],
      "metadata": {
        "id": "8ckY6jQ8yM-u"
      }
    },
    {
      "cell_type": "code",
      "source": [
        "display(df)"
      ],
      "metadata": {
        "colab": {
          "base_uri": "https://localhost:8080/",
          "height": 152
        },
        "id": "Q9lCTioRwtTR",
        "outputId": "6e15d438-f20c-435b-8a2e-6c3d6f662138"
      },
      "execution_count": 39,
      "outputs": [
        {
          "output_type": "display_data",
          "data": {
            "text/plain": [
              "   Activités récréatives.Aquarium  Commerce et Service.Banque  \\\n",
              "0                               1                          18   \n",
              "\n",
              "   Commerce et Service.Bar  Commerce et Service.Boucherie  \\\n",
              "0                       16                              6   \n",
              "\n",
              "   Commerce et Service.Boulangerie  Commerce et Service.Bureau de poste  \\\n",
              "0                               12                                    4   \n",
              "\n",
              "   Commerce et Service.Marché de quartier  \\\n",
              "0                                       1   \n",
              "\n",
              "   Commerce et Service.Presse et Tabac  Commerce et Service.Restaurant  \\\n",
              "0                                    8                              57   \n",
              "\n",
              "   Commerce et Service.Supérette  \\\n",
              "0                              2   \n",
              "\n",
              "   Commerce et Service.Supermarché et Hypermarché  \\\n",
              "0                                               6   \n",
              "\n",
              "   Culture.Monument historique  Culture.Théâtre  Education.Collège  \\\n",
              "0                           15                2                  2   \n",
              "\n",
              "   Education.Ecole maternelle  Education.Ecole primaire  \\\n",
              "0                           3                         8   \n",
              "\n",
              "   Education.Enseignement supérieur  Education.Lycée  Festival.Festival  \\\n",
              "0                                 3                2                  4   \n",
              "\n",
              "   Lieux d'intérêts.Agglomération  Lieux d'intérêts.Ville  \\\n",
              "0                               1                       1   \n",
              "\n",
              "   Lieux touristiques.Incontournable  Lieux touristiques.Musée  \\\n",
              "0                                  2                         4   \n",
              "\n",
              "   Loisirs.Parc, Jardin et Square  Loisirs.Terrain et Salle de sport  \\\n",
              "0                              36                                  6   \n",
              "\n",
              "   Petite enfance.Crèche  Risques.Antennes relais  \\\n",
              "0                      4                       27   \n",
              "\n",
              "   Risques.Site potentiellement polué  Santé.Médecin généraliste  \\\n",
              "0                                  77                         75   \n",
              "\n",
              "   Santé.Médecin spécialiste  Santé.Pharmacie  \\\n",
              "0                        210               20   \n",
              "\n",
              "   Service Public.Service des impôts des entreprises  \\\n",
              "0                                                  2   \n",
              "\n",
              "   Service Public.Service des impôts des particuliers  Tourisme.Hôtel  \\\n",
              "0                                                  1               27   \n",
              "\n",
              "   Tourisme.Résidence de tourisme, Village et Parc  Transport.Arrêt bus  \\\n",
              "0                                                1                   52   \n",
              "\n",
              "   Transport.Autolib'  Transport.Location de vélo  Transport.Métro  \\\n",
              "0                  11                           6                6   \n",
              "\n",
              "   Transport.Parking  Transport.Parking à vélo  Transport.Rer  \\\n",
              "0                  3                         2              1   \n",
              "\n",
              "   Transport.Station de taxi  Transport.Station service  Transport.Vélib'  \\\n",
              "0                         12                          3                10   \n",
              "\n",
              "   id_polygone  \n",
              "0       100476  "
            ],
            "text/html": [
              "\n",
              "  <div id=\"df-a68a25fc-a268-4870-967e-7c5f90d7288c\" class=\"colab-df-container\">\n",
              "    <div>\n",
              "<style scoped>\n",
              "    .dataframe tbody tr th:only-of-type {\n",
              "        vertical-align: middle;\n",
              "    }\n",
              "\n",
              "    .dataframe tbody tr th {\n",
              "        vertical-align: top;\n",
              "    }\n",
              "\n",
              "    .dataframe thead th {\n",
              "        text-align: right;\n",
              "    }\n",
              "</style>\n",
              "<table border=\"1\" class=\"dataframe\">\n",
              "  <thead>\n",
              "    <tr style=\"text-align: right;\">\n",
              "      <th></th>\n",
              "      <th>Activités récréatives.Aquarium</th>\n",
              "      <th>Commerce et Service.Banque</th>\n",
              "      <th>Commerce et Service.Bar</th>\n",
              "      <th>Commerce et Service.Boucherie</th>\n",
              "      <th>Commerce et Service.Boulangerie</th>\n",
              "      <th>Commerce et Service.Bureau de poste</th>\n",
              "      <th>Commerce et Service.Marché de quartier</th>\n",
              "      <th>Commerce et Service.Presse et Tabac</th>\n",
              "      <th>Commerce et Service.Restaurant</th>\n",
              "      <th>Commerce et Service.Supérette</th>\n",
              "      <th>Commerce et Service.Supermarché et Hypermarché</th>\n",
              "      <th>Culture.Monument historique</th>\n",
              "      <th>Culture.Théâtre</th>\n",
              "      <th>Education.Collège</th>\n",
              "      <th>Education.Ecole maternelle</th>\n",
              "      <th>Education.Ecole primaire</th>\n",
              "      <th>Education.Enseignement supérieur</th>\n",
              "      <th>Education.Lycée</th>\n",
              "      <th>Festival.Festival</th>\n",
              "      <th>Lieux d'intérêts.Agglomération</th>\n",
              "      <th>Lieux d'intérêts.Ville</th>\n",
              "      <th>Lieux touristiques.Incontournable</th>\n",
              "      <th>Lieux touristiques.Musée</th>\n",
              "      <th>Loisirs.Parc, Jardin et Square</th>\n",
              "      <th>Loisirs.Terrain et Salle de sport</th>\n",
              "      <th>Petite enfance.Crèche</th>\n",
              "      <th>Risques.Antennes relais</th>\n",
              "      <th>Risques.Site potentiellement polué</th>\n",
              "      <th>Santé.Médecin généraliste</th>\n",
              "      <th>Santé.Médecin spécialiste</th>\n",
              "      <th>Santé.Pharmacie</th>\n",
              "      <th>Service Public.Service des impôts des entreprises</th>\n",
              "      <th>Service Public.Service des impôts des particuliers</th>\n",
              "      <th>Tourisme.Hôtel</th>\n",
              "      <th>Tourisme.Résidence de tourisme, Village et Parc</th>\n",
              "      <th>Transport.Arrêt bus</th>\n",
              "      <th>Transport.Autolib'</th>\n",
              "      <th>Transport.Location de vélo</th>\n",
              "      <th>Transport.Métro</th>\n",
              "      <th>Transport.Parking</th>\n",
              "      <th>Transport.Parking à vélo</th>\n",
              "      <th>Transport.Rer</th>\n",
              "      <th>Transport.Station de taxi</th>\n",
              "      <th>Transport.Station service</th>\n",
              "      <th>Transport.Vélib'</th>\n",
              "      <th>id_polygone</th>\n",
              "    </tr>\n",
              "  </thead>\n",
              "  <tbody>\n",
              "    <tr>\n",
              "      <th>0</th>\n",
              "      <td>1</td>\n",
              "      <td>18</td>\n",
              "      <td>16</td>\n",
              "      <td>6</td>\n",
              "      <td>12</td>\n",
              "      <td>4</td>\n",
              "      <td>1</td>\n",
              "      <td>8</td>\n",
              "      <td>57</td>\n",
              "      <td>2</td>\n",
              "      <td>6</td>\n",
              "      <td>15</td>\n",
              "      <td>2</td>\n",
              "      <td>2</td>\n",
              "      <td>3</td>\n",
              "      <td>8</td>\n",
              "      <td>3</td>\n",
              "      <td>2</td>\n",
              "      <td>4</td>\n",
              "      <td>1</td>\n",
              "      <td>1</td>\n",
              "      <td>2</td>\n",
              "      <td>4</td>\n",
              "      <td>36</td>\n",
              "      <td>6</td>\n",
              "      <td>4</td>\n",
              "      <td>27</td>\n",
              "      <td>77</td>\n",
              "      <td>75</td>\n",
              "      <td>210</td>\n",
              "      <td>20</td>\n",
              "      <td>2</td>\n",
              "      <td>1</td>\n",
              "      <td>27</td>\n",
              "      <td>1</td>\n",
              "      <td>52</td>\n",
              "      <td>11</td>\n",
              "      <td>6</td>\n",
              "      <td>6</td>\n",
              "      <td>3</td>\n",
              "      <td>2</td>\n",
              "      <td>1</td>\n",
              "      <td>12</td>\n",
              "      <td>3</td>\n",
              "      <td>10</td>\n",
              "      <td>100476</td>\n",
              "    </tr>\n",
              "  </tbody>\n",
              "</table>\n",
              "</div>\n",
              "    <div class=\"colab-df-buttons\">\n",
              "\n",
              "  <div class=\"colab-df-container\">\n",
              "    <button class=\"colab-df-convert\" onclick=\"convertToInteractive('df-a68a25fc-a268-4870-967e-7c5f90d7288c')\"\n",
              "            title=\"Convert this dataframe to an interactive table.\"\n",
              "            style=\"display:none;\">\n",
              "\n",
              "  <svg xmlns=\"http://www.w3.org/2000/svg\" height=\"24px\" viewBox=\"0 -960 960 960\">\n",
              "    <path d=\"M120-120v-720h720v720H120Zm60-500h600v-160H180v160Zm220 220h160v-160H400v160Zm0 220h160v-160H400v160ZM180-400h160v-160H180v160Zm440 0h160v-160H620v160ZM180-180h160v-160H180v160Zm440 0h160v-160H620v160Z\"/>\n",
              "  </svg>\n",
              "    </button>\n",
              "\n",
              "  <style>\n",
              "    .colab-df-container {\n",
              "      display:flex;\n",
              "      gap: 12px;\n",
              "    }\n",
              "\n",
              "    .colab-df-convert {\n",
              "      background-color: #E8F0FE;\n",
              "      border: none;\n",
              "      border-radius: 50%;\n",
              "      cursor: pointer;\n",
              "      display: none;\n",
              "      fill: #1967D2;\n",
              "      height: 32px;\n",
              "      padding: 0 0 0 0;\n",
              "      width: 32px;\n",
              "    }\n",
              "\n",
              "    .colab-df-convert:hover {\n",
              "      background-color: #E2EBFA;\n",
              "      box-shadow: 0px 1px 2px rgba(60, 64, 67, 0.3), 0px 1px 3px 1px rgba(60, 64, 67, 0.15);\n",
              "      fill: #174EA6;\n",
              "    }\n",
              "\n",
              "    .colab-df-buttons div {\n",
              "      margin-bottom: 4px;\n",
              "    }\n",
              "\n",
              "    [theme=dark] .colab-df-convert {\n",
              "      background-color: #3B4455;\n",
              "      fill: #D2E3FC;\n",
              "    }\n",
              "\n",
              "    [theme=dark] .colab-df-convert:hover {\n",
              "      background-color: #434B5C;\n",
              "      box-shadow: 0px 1px 3px 1px rgba(0, 0, 0, 0.15);\n",
              "      filter: drop-shadow(0px 1px 2px rgba(0, 0, 0, 0.3));\n",
              "      fill: #FFFFFF;\n",
              "    }\n",
              "  </style>\n",
              "\n",
              "    <script>\n",
              "      const buttonEl =\n",
              "        document.querySelector('#df-a68a25fc-a268-4870-967e-7c5f90d7288c button.colab-df-convert');\n",
              "      buttonEl.style.display =\n",
              "        google.colab.kernel.accessAllowed ? 'block' : 'none';\n",
              "\n",
              "      async function convertToInteractive(key) {\n",
              "        const element = document.querySelector('#df-a68a25fc-a268-4870-967e-7c5f90d7288c');\n",
              "        const dataTable =\n",
              "          await google.colab.kernel.invokeFunction('convertToInteractive',\n",
              "                                                    [key], {});\n",
              "        if (!dataTable) return;\n",
              "\n",
              "        const docLinkHtml = 'Like what you see? Visit the ' +\n",
              "          '<a target=\"_blank\" href=https://colab.research.google.com/notebooks/data_table.ipynb>data table notebook</a>'\n",
              "          + ' to learn more about interactive tables.';\n",
              "        element.innerHTML = '';\n",
              "        dataTable['output_type'] = 'display_data';\n",
              "        await google.colab.output.renderOutput(dataTable, element);\n",
              "        const docLink = document.createElement('div');\n",
              "        docLink.innerHTML = docLinkHtml;\n",
              "        element.appendChild(docLink);\n",
              "      }\n",
              "    </script>\n",
              "  </div>\n",
              "\n",
              "\n",
              "  <div id=\"id_b9366220-f1c4-47ad-b4e3-07242db1472b\">\n",
              "    <style>\n",
              "      .colab-df-generate {\n",
              "        background-color: #E8F0FE;\n",
              "        border: none;\n",
              "        border-radius: 50%;\n",
              "        cursor: pointer;\n",
              "        display: none;\n",
              "        fill: #1967D2;\n",
              "        height: 32px;\n",
              "        padding: 0 0 0 0;\n",
              "        width: 32px;\n",
              "      }\n",
              "\n",
              "      .colab-df-generate:hover {\n",
              "        background-color: #E2EBFA;\n",
              "        box-shadow: 0px 1px 2px rgba(60, 64, 67, 0.3), 0px 1px 3px 1px rgba(60, 64, 67, 0.15);\n",
              "        fill: #174EA6;\n",
              "      }\n",
              "\n",
              "      [theme=dark] .colab-df-generate {\n",
              "        background-color: #3B4455;\n",
              "        fill: #D2E3FC;\n",
              "      }\n",
              "\n",
              "      [theme=dark] .colab-df-generate:hover {\n",
              "        background-color: #434B5C;\n",
              "        box-shadow: 0px 1px 3px 1px rgba(0, 0, 0, 0.15);\n",
              "        filter: drop-shadow(0px 1px 2px rgba(0, 0, 0, 0.3));\n",
              "        fill: #FFFFFF;\n",
              "      }\n",
              "    </style>\n",
              "    <button class=\"colab-df-generate\" onclick=\"generateWithVariable('df')\"\n",
              "            title=\"Generate code using this dataframe.\"\n",
              "            style=\"display:none;\">\n",
              "\n",
              "  <svg xmlns=\"http://www.w3.org/2000/svg\" height=\"24px\"viewBox=\"0 0 24 24\"\n",
              "       width=\"24px\">\n",
              "    <path d=\"M7,19H8.4L18.45,9,17,7.55,7,17.6ZM5,21V16.75L18.45,3.32a2,2,0,0,1,2.83,0l1.4,1.43a1.91,1.91,0,0,1,.58,1.4,1.91,1.91,0,0,1-.58,1.4L9.25,21ZM18.45,9,17,7.55Zm-12,3A5.31,5.31,0,0,0,4.9,8.1,5.31,5.31,0,0,0,1,6.5,5.31,5.31,0,0,0,4.9,4.9,5.31,5.31,0,0,0,6.5,1,5.31,5.31,0,0,0,8.1,4.9,5.31,5.31,0,0,0,12,6.5,5.46,5.46,0,0,0,6.5,12Z\"/>\n",
              "  </svg>\n",
              "    </button>\n",
              "    <script>\n",
              "      (() => {\n",
              "      const buttonEl =\n",
              "        document.querySelector('#id_b9366220-f1c4-47ad-b4e3-07242db1472b button.colab-df-generate');\n",
              "      buttonEl.style.display =\n",
              "        google.colab.kernel.accessAllowed ? 'block' : 'none';\n",
              "\n",
              "      buttonEl.onclick = () => {\n",
              "        google.colab.notebook.generateWithVariable('df');\n",
              "      }\n",
              "      })();\n",
              "    </script>\n",
              "  </div>\n",
              "\n",
              "    </div>\n",
              "  </div>\n"
            ],
            "application/vnd.google.colaboratory.intrinsic+json": {
              "type": "dataframe",
              "variable_name": "df"
            }
          },
          "metadata": {}
        }
      ]
    },
    {
      "cell_type": "code",
      "source": [
        "print(df.columns)"
      ],
      "metadata": {
        "colab": {
          "base_uri": "https://localhost:8080/"
        },
        "id": "AzJCMMsRx4y2",
        "outputId": "f8c08160-557f-4bbc-84f8-408693aef3c1"
      },
      "execution_count": 27,
      "outputs": [
        {
          "output_type": "stream",
          "name": "stdout",
          "text": [
            "Index(['Activités récréatives.Aquarium', 'Commerce et Service.Banque',\n",
            "       'Commerce et Service.Bar', 'Commerce et Service.Boucherie',\n",
            "       'Commerce et Service.Boulangerie',\n",
            "       'Commerce et Service.Bureau de poste',\n",
            "       'Commerce et Service.Marché de quartier',\n",
            "       'Commerce et Service.Presse et Tabac', 'Commerce et Service.Restaurant',\n",
            "       'Commerce et Service.Supérette',\n",
            "       'Commerce et Service.Supermarché et Hypermarché',\n",
            "       'Culture.Monument historique', 'Culture.Théâtre', 'Education.Collège',\n",
            "       'Education.Ecole maternelle', 'Education.Ecole primaire',\n",
            "       'Education.Enseignement supérieur', 'Education.Lycée',\n",
            "       'Festival.Festival', 'Lieux d'intérêts.Agglomération',\n",
            "       'Lieux d'intérêts.Ville', 'Lieux touristiques.Incontournable',\n",
            "       'Lieux touristiques.Musée', 'Loisirs.Parc, Jardin et Square',\n",
            "       'Loisirs.Terrain et Salle de sport', 'Petite enfance.Crèche',\n",
            "       'Risques.Antennes relais', 'Risques.Site potentiellement polué',\n",
            "       'Santé.Médecin généraliste', 'Santé.Médecin spécialiste',\n",
            "       'Santé.Pharmacie', 'Service Public.Service des impôts des entreprises',\n",
            "       'Service Public.Service des impôts des particuliers', 'Tourisme.Hôtel',\n",
            "       'Tourisme.Résidence de tourisme, Village et Parc',\n",
            "       'Transport.Arrêt bus', 'Transport.Autolib'',\n",
            "       'Transport.Location de vélo', 'Transport.Métro', 'Transport.Parking',\n",
            "       'Transport.Parking à vélo', 'Transport.Rer',\n",
            "       'Transport.Station de taxi', 'Transport.Station service',\n",
            "       'Transport.Vélib''],\n",
            "      dtype='object')\n"
          ]
        }
      ]
    },
    {
      "cell_type": "code",
      "source": [],
      "metadata": {
        "id": "ZaBW4ZJevvyp"
      },
      "execution_count": null,
      "outputs": []
    }
  ]
}